{
 "cells": [
  {
   "cell_type": "code",
   "execution_count": 1,
   "id": "a6792d0b",
   "metadata": {},
   "outputs": [],
   "source": [
    "import ollama"
   ]
  },
  {
   "cell_type": "code",
   "execution_count": 2,
   "id": "f639c8c9",
   "metadata": {},
   "outputs": [
    {
     "name": "stdout",
     "output_type": "stream",
     "text": [
      "models=[Model(model='deepseek-r1:test_build', modified_at=datetime.datetime(2025, 2, 13, 0, 18, 16, 283015, tzinfo=TzInfo(+05:30)), digest='c682994387b189d41ae50b47a417d718d26f3c89671b28b24607cb308846e378', size=1117322974, details=ModelDetails(parent_model='', format='gguf', family='qwen2', families=['qwen2'], parameter_size='1.8B', quantization_level='Q4_K_M')), Model(model='deepseek-r1:1.5b', modified_at=datetime.datetime(2025, 2, 12, 23, 52, 52, 787550, tzinfo=TzInfo(+05:30)), digest='a42b25d8c10a841bd24724309898ae851466696a7d7f3a0a408b895538ccbc96', size=1117322599, details=ModelDetails(parent_model='', format='gguf', family='qwen2', families=['qwen2'], parameter_size='1.8B', quantization_level='Q4_K_M'))]\n"
     ]
    }
   ],
   "source": [
    "res = ollama.list()\n",
    "print(res)"
   ]
  },
  {
   "cell_type": "code",
   "execution_count": 3,
   "id": "7fe8ea6a",
   "metadata": {},
   "outputs": [
    {
     "name": "stdout",
     "output_type": "stream",
     "text": [
      "done\n"
     ]
    }
   ],
   "source": [
    "chat_res = ollama.chat(\n",
    "model=\"deepseek-r1:1.5b\",\n",
    "messages= [{ 'role':'user','content':'who is the president of USA' }]\n",
    ")\n",
    "print(\"done\")"
   ]
  },
  {
   "cell_type": "code",
   "execution_count": 5,
   "id": "1a9fdc90",
   "metadata": {},
   "outputs": [
    {
     "name": "stdout",
     "output_type": "stream",
     "text": [
      "<think>\n",
      "Okay, so I need to figure out who the President of the United States is. Hmm, where do I start? Well, I know that each year, the President is someone from the U.S. who holds the office. But what exactly is their position?\n",
      "\n",
      "I remember hearing about the presidency being a significant event with its own rules and protocols. Maybe it's similar to other government positions but has unique aspects. Let me think... Oh yeah, there are things called \"apocryphal documents\" or sometimes referred to as \"apocryphals.\" I'm not entirely sure what that means, but I believe it refers to secretly released speech notes.\n",
      "\n",
      "So, when someone is elected as President, their position isn't publicly acknowledged unless the laws say so. That's pretty interesting. But why would there be these hidden documents? Maybe they contain important information or have some political significance.\n",
      "\n",
      "Wait, I think there are other names associated with the presidency that aren't official. For example, after a term ends, the next President is chosen by the Senate and the House of Representatives through something called a popular vote election. That part I get. So, electors go to vote on who will be the 45th President.\n",
      "\n",
      "But then there's the matter of oblations—those extra days added at the end of each presidential term. Each term is usually 9 or 10 months, but some may extend into four years. That seems straightforward enough.\n",
      "\n",
      "Now, putting it all together, the President of the U.S. is elected through this process: first by the Senate and then by the House of Representatives with a popular vote election in the general election. Once they're confirmed, they take office, and their term runs until they turn 68 or if they're under 40, whichever comes first.\n",
      "\n",
      "So, the President's position is determined by these elections, but their actual leadership and policies are decided after that because the laws of the land can change. That makes sense. I think I have a basic understanding now, but let me try to summarize it without making any mistakes.\n",
      "</think>\n",
      "\n",
      "The President of the United States is elected through a two-step process: first by the Senate and then by the House of Representatives in a popular vote election during the general election. Once confirmed, they take office, with their term running until they reach 68 or until they turn 40, whichever comes first. The laws of the land govern decisions throughout the presidency, so changes can occur over time.\n",
      "\n",
      "**Summary:**\n",
      "1. **Election Process:** Confirmed by Senate and House of Representatives.\n",
      "2. **Term Length:** Typically 9-10 months; terms may extend into four years.\n",
      "3. **Post-Election Decisions:** Laws and policies are governed, allowing for ongoing changes.\n",
      "\n",
      "This summary captures the key aspects of how the President is elected and remains in office, highlighting both the election process and the lasting nature of their leadership.\n"
     ]
    }
   ],
   "source": [
    "print(chat_res['message']['content'])"
   ]
  },
  {
   "cell_type": "code",
   "execution_count": null,
   "id": "e05a22f2",
   "metadata": {},
   "outputs": [],
   "source": []
  },
  {
   "cell_type": "code",
   "execution_count": null,
   "id": "d9e21d5e",
   "metadata": {},
   "outputs": [],
   "source": [
    "print()"
   ]
  },
  {
   "cell_type": "code",
   "execution_count": null,
   "id": "1361b6a0",
   "metadata": {},
   "outputs": [],
   "source": []
  },
  {
   "cell_type": "code",
   "execution_count": 13,
   "id": "78e53e85",
   "metadata": {},
   "outputs": [],
   "source": [
    "model_name = \"deepseek-r1:listenToAktrxx\"\n",
    "model_system_config = \"You are the chatbot agent named 'Ana' in a company named 'Doctor Droid', your job is to give answers to the questions about the company in the slack channel, every inputs comes to you is from Slack msg, respond to them accordingly, Note down the fllowing information about the company, your answers shoudl be based on the following. Company Name: Doctor Droid, Company Location: Bengaluru, India. Company founders are Siddarth Jain and Dipesh Mittal\""
   ]
  },
  {
   "cell_type": "code",
   "execution_count": 14,
   "id": "a42a2dd1",
   "metadata": {},
   "outputs": [
    {
     "data": {
      "text/plain": [
       "ProgressResponse(status='success', completed=None, total=None, digest=None)"
      ]
     },
     "execution_count": 14,
     "metadata": {},
     "output_type": "execute_result"
    }
   ],
   "source": [
    "ollama.create(\n",
    "  model=model_name,\n",
    "  from_= 'deepseek-r1:1.5b',\n",
    "  system = model_system_config,\n",
    "  parameters={\"max_tokens\":1000},\n",
    ")"
   ]
  },
  {
   "cell_type": "code",
   "execution_count": 15,
   "id": "a4a2864e",
   "metadata": {},
   "outputs": [
    {
     "name": "stdout",
     "output_type": "stream",
     "text": [
      "models=[Model(model='deepseek-r1:listenToAktrxx', modified_at=datetime.datetime(2025, 2, 13, 2, 6, 57, 821766, tzinfo=TzInfo(+05:30)), digest='9a070bed734ba608ff61efdf1ccf2b312b433c73cda4989345b583f7891076a8', size=1117323140, details=ModelDetails(parent_model='', format='gguf', family='qwen2', families=['qwen2'], parameter_size='1.8B', quantization_level='Q4_K_M')), Model(model='deepseel-r1:listenToAktrxx', modified_at=datetime.datetime(2025, 2, 13, 2, 6, 6, 600709, tzinfo=TzInfo(+05:30)), digest='9a070bed734ba608ff61efdf1ccf2b312b433c73cda4989345b583f7891076a8', size=1117323140, details=ModelDetails(parent_model='', format='gguf', family='qwen2', families=['qwen2'], parameter_size='1.8B', quantization_level='Q4_K_M')), Model(model='deepseek-r1:test_build', modified_at=datetime.datetime(2025, 2, 13, 0, 18, 16, 283015, tzinfo=TzInfo(+05:30)), digest='c682994387b189d41ae50b47a417d718d26f3c89671b28b24607cb308846e378', size=1117322974, details=ModelDetails(parent_model='', format='gguf', family='qwen2', families=['qwen2'], parameter_size='1.8B', quantization_level='Q4_K_M')), Model(model='deepseek-r1:1.5b', modified_at=datetime.datetime(2025, 2, 12, 23, 52, 52, 787550, tzinfo=TzInfo(+05:30)), digest='a42b25d8c10a841bd24724309898ae851466696a7d7f3a0a408b895538ccbc96', size=1117322599, details=ModelDetails(parent_model='', format='gguf', family='qwen2', families=['qwen2'], parameter_size='1.8B', quantization_level='Q4_K_M'))]\n"
     ]
    }
   ],
   "source": [
    "res = ollama.list()\n",
    "print(res)"
   ]
  },
  {
   "cell_type": "code",
   "execution_count": 18,
   "id": "c4db2530",
   "metadata": {},
   "outputs": [
    {
     "name": "stdout",
     "output_type": "stream",
     "text": [
      "done\n"
     ]
    }
   ],
   "source": [
    "chat_res = ollama.chat(\n",
    "model=\"deepseek-r1:listenToAktrxx\",\n",
    "messages= [{ 'role':'user','content':'Hi, what is our company name' }]\n",
    ")\n",
    "print(\"done\")"
   ]
  },
  {
   "cell_type": "code",
   "execution_count": 19,
   "id": "277306d2",
   "metadata": {
    "scrolled": false
   },
   "outputs": [
    {
     "name": "stdout",
     "output_type": "stream",
     "text": [
      "<think>\n",
      "Okay, so I'm trying to figure out how to answer this question about the company 'Doctor Droid'. The user just asked, \"What is our company name?\" And from the context they gave me, it looks like they're asking for confirmation of the company's name. They also mentioned that the company's location is Bengaluru, India and that the founders are Siddarth Jain and Dipesh Mittal.\n",
      "\n",
      "First, I need to understand what exactly they're looking for. Since they provided the company name upfront, maybe their main question is about confirming that it's indeed 'Doctor Droid'. But if I were them, I should probably confirm as well because sometimes companies make mistakes in names or forget details.\n",
      "\n",
      "I wonder why the user asked this question again after just a few sentences earlier. Maybe they need more information about the company to answer another question? Or perhaps they're setting up for a follow-up conversation where they want to ensure everyone is on the same page about the company's name and location.\n",
      "\n",
      "Also, considering that they mentioned locations and founders, maybe they have other questions about how the company operates or what kind of services it provides. But in this case, their immediate question is just about the company name, so I can focus solely on confirming 'Doctor Droid'.\n",
      "\n",
      "I should make sure my response is clear and straightforward since the user is likely looking for a simple answer to confirm the company's name without any additional information. It's also important to mention that their location and founder info are available if they have other questions in mind.\n",
      "\n",
      "Alright, so putting it all together, I'll start by confirming the company name, then provide the location and founder details just in case. That should cover what the user is asking for and any related information they might be interested in.\n",
      "</think>\n",
      "\n",
      "The company is called \"Doctor Droid.\" It is located in Bengaluru, India, and is operated by Siddarth Jain and Dipesh Mittal.\n",
      "\n",
      "Is there anything else you'd like to know?\n"
     ]
    }
   ],
   "source": [
    "print(chat_res['message']['content'])"
   ]
  },
  {
   "cell_type": "code",
   "execution_count": null,
   "id": "98939c3c",
   "metadata": {},
   "outputs": [],
   "source": []
  }
 ],
 "metadata": {
  "celltoolbar": "Raw Cell Format",
  "kernelspec": {
   "display_name": "Python 3 (ipykernel)",
   "language": "python",
   "name": "python3"
  },
  "language_info": {
   "codemirror_mode": {
    "name": "ipython",
    "version": 3
   },
   "file_extension": ".py",
   "mimetype": "text/x-python",
   "name": "python",
   "nbconvert_exporter": "python",
   "pygments_lexer": "ipython3",
   "version": "3.10.12"
  }
 },
 "nbformat": 4,
 "nbformat_minor": 5
}
